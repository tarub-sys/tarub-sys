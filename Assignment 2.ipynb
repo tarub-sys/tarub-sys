{
 "cells": [
  {
   "cell_type": "code",
   "execution_count": 3,
   "id": "51dcd5e2-2e02-43ad-a656-74e4a52065bb",
   "metadata": {},
   "outputs": [
    {
     "name": "stdout",
     "output_type": "stream",
     "text": [
      "Hello sir, This is my Assignment 2.\n"
     ]
    }
   ],
   "source": [
    "print(\"Hello sir, This is my Assignment 2.\")"
   ]
  },
  {
   "cell_type": "markdown",
   "id": "0c526b91-e619-4f7b-b17f-69764133db63",
   "metadata": {},
   "source": [
    "Q1. How do you comment code in Python? What are the different types of comments?"
   ]
  },
  {
   "cell_type": "markdown",
   "id": "b54e2dcb-58d1-4c30-8351-7010d2051346",
   "metadata": {},
   "source": [
    "In order to comment code in python, We have to first use # at the start of the senctence. For example:"
   ]
  },
  {
   "cell_type": "code",
   "execution_count": 1,
   "id": "7276118a-9ccc-49bd-82e0-4acd4bad9747",
   "metadata": {},
   "outputs": [],
   "source": [
    "#This is one way to comment code in python.\n",
    "#There are two types of comment in python "
   ]
  },
  {
   "cell_type": "markdown",
   "id": "18b9ba54-9882-4e5b-a250-983ce15c1e27",
   "metadata": {},
   "source": [
    "Single Line Comment-"
   ]
  },
  {
   "cell_type": "code",
   "execution_count": 1,
   "id": "90ffbacd-c456-41f9-b6ab-195d7f1973c9",
   "metadata": {},
   "outputs": [
    {
     "name": "stdout",
     "output_type": "stream",
     "text": [
      "Hello,Earth\n"
     ]
    }
   ],
   "source": [
    "#I am a single line comment \n",
    "print(\"Hello,Earth\")"
   ]
  },
  {
   "cell_type": "code",
   "execution_count": null,
   "id": "033c18d6-eea2-4652-8803-6e532d5cb2df",
   "metadata": {},
   "outputs": [],
   "source": [
    "Multi-Line Comment-"
   ]
  },
  {
   "cell_type": "code",
   "execution_count": 2,
   "id": "c023d175-a44d-4c96-88e7-203217870f79",
   "metadata": {},
   "outputs": [
    {
     "name": "stdout",
     "output_type": "stream",
     "text": [
      "Hello,Earth\n"
     ]
    }
   ],
   "source": [
    "\"\"\"\n",
    "I am muti-line comment\n",
    "We can write two and more number of lines as comment\n",
    "\"\"\"\n",
    "print(\"Hello,Earth\")"
   ]
  },
  {
   "cell_type": "markdown",
   "id": "8d4cc34a-55c4-4b1d-9115-e0942af1b620",
   "metadata": {},
   "source": [
    "Q2. What are variables in Python? How do you declare and assign values to variables?"
   ]
  },
  {
   "cell_type": "code",
   "execution_count": 4,
   "id": "735a2b8c-c6fe-4321-9573-7a278b18ddb4",
   "metadata": {},
   "outputs": [],
   "source": [
    "#Variables:A Variable is a storage location or unit  that contains a value.\n",
    "#To assign value:"
   ]
  },
  {
   "cell_type": "code",
   "execution_count": 13,
   "id": "d6bd2905-7ae1-4ce2-a123-99ed15be859a",
   "metadata": {},
   "outputs": [],
   "source": [
    "x=5"
   ]
  },
  {
   "cell_type": "code",
   "execution_count": 14,
   "id": "237602c7-5e3d-4d64-a6b0-d5b1a4482ac2",
   "metadata": {},
   "outputs": [
    {
     "data": {
      "text/plain": [
       "5"
      ]
     },
     "execution_count": 14,
     "metadata": {},
     "output_type": "execute_result"
    }
   ],
   "source": [
    "x"
   ]
  },
  {
   "cell_type": "markdown",
   "id": "342efab3-1152-46ba-8c2f-794d1f2ca2d4",
   "metadata": {},
   "source": [
    "Q3. How do you convert one data type to another in Python?"
   ]
  },
  {
   "cell_type": "code",
   "execution_count": 6,
   "id": "8ac05328-dd00-4a1e-a103-967df5717462",
   "metadata": {},
   "outputs": [],
   "source": [
    "# We can convert one type of data to another by using the mehtod of typecasting."
   ]
  },
  {
   "cell_type": "markdown",
   "id": "3437d080-a264-4192-a99d-d69377093fec",
   "metadata": {},
   "source": [
    "For Example:By converting string into list."
   ]
  },
  {
   "cell_type": "code",
   "execution_count": 3,
   "id": "395b275a-f5a7-4bf6-8fe5-b7cfab257d6a",
   "metadata": {},
   "outputs": [],
   "source": [
    "str1=(\"Hello to Earth\")"
   ]
  },
  {
   "cell_type": "code",
   "execution_count": 4,
   "id": "3ac971f1-406a-4f9b-a550-9587af3cc6a9",
   "metadata": {},
   "outputs": [
    {
     "data": {
      "text/plain": [
       "['H', 'e', 'l', 'l', 'o', ' ', 't', 'o', ' ', 'E', 'a', 'r', 't', 'h']"
      ]
     },
     "execution_count": 4,
     "metadata": {},
     "output_type": "execute_result"
    }
   ],
   "source": [
    "list(str1)"
   ]
  },
  {
   "cell_type": "code",
   "execution_count": 7,
   "id": "b1f1380e-053a-4946-b25b-93ef778599b0",
   "metadata": {},
   "outputs": [
    {
     "data": {
      "text/plain": [
       "list"
      ]
     },
     "execution_count": 7,
     "metadata": {},
     "output_type": "execute_result"
    }
   ],
   "source": [
    "type(list(str1))"
   ]
  },
  {
   "cell_type": "markdown",
   "id": "8aa9de7c-1ac4-4876-9a14-e1552822c660",
   "metadata": {},
   "source": [
    "Q4. How do you write and execute a Python script from the command line?"
   ]
  },
  {
   "cell_type": "code",
   "execution_count": 29,
   "id": "62668060-111b-4fc8-b850-b875c2f920a4",
   "metadata": {},
   "outputs": [
    {
     "name": "stdout",
     "output_type": "stream",
     "text": [
      "Answer to the fouth Question\n"
     ]
    }
   ],
   "source": [
    "\"\"\"\n",
    "\n",
    "In windows, First  step:install python. \n",
    "            Second step:Create a file having pyhton datatype. Ex: Hello.py.\n",
    "            Third  step:Peform the function like:-print(\"Hello,World\").\n",
    "            Fourth step:Search the file name on window's command prompt.\n",
    "            Fifth  step:We can see Hello,World as an output in command prompt.\n",
    "\"\"\"\n",
    "print(\"Answer to the fouth Question\")"
   ]
  },
  {
   "cell_type": "code",
   "execution_count": null,
   "id": "2be1041d-ebe2-427d-b5e9-6f94c546ae8b",
   "metadata": {},
   "outputs": [],
   "source": [
    "Q5. Given a list my_list = [1, 2, 3, 4, 5], write the code to slice the list and obtain the sub-list [2, 3]."
   ]
  },
  {
   "cell_type": "code",
   "execution_count": 3,
   "id": "058c2cc2-23bd-41a4-accf-4d65117474ca",
   "metadata": {},
   "outputs": [],
   "source": [
    "my_list=[1,2,3,4,5]\n",
    "sub_list=my_list"
   ]
  },
  {
   "cell_type": "code",
   "execution_count": 5,
   "id": "41f97c78-7680-4a2c-9cc1-1c5c086b7b30",
   "metadata": {},
   "outputs": [
    {
     "data": {
      "text/plain": [
       "[2, 3]"
      ]
     },
     "execution_count": 5,
     "metadata": {},
     "output_type": "execute_result"
    }
   ],
   "source": [
    "sub_list[1:3]"
   ]
  },
  {
   "cell_type": "markdown",
   "id": "92153bb6-e9f3-4fb5-99d3-64d5b7d3dce1",
   "metadata": {},
   "source": [
    "Q6. What is a complex number in mathematics, and how is it represented in Python?"
   ]
  },
  {
   "cell_type": "code",
   "execution_count": 9,
   "id": "d603e02c-08c2-417d-9eda-918335cc5f4c",
   "metadata": {},
   "outputs": [],
   "source": [
    "#Complex number in mathematics are the number which which have real and imaginary number in it."
   ]
  },
  {
   "cell_type": "markdown",
   "id": "e25bc7d4-143a-4911-b179-74ba7daecf66",
   "metadata": {},
   "source": [
    "#For Example: 6+2b."
   ]
  },
  {
   "cell_type": "code",
   "execution_count": 7,
   "id": "344294e1-29fe-4df5-b344-d3080e2338ac",
   "metadata": {},
   "outputs": [],
   "source": [
    "#In python, it is presented as: in this 4 and 6 is the real number and j is the imaginary number."
   ]
  },
  {
   "cell_type": "markdown",
   "id": "697e59be-2255-4f1d-8d83-0b4e56f5e337",
   "metadata": {},
   "source": [
    "For Example:"
   ]
  },
  {
   "cell_type": "code",
   "execution_count": 8,
   "id": "7b1238ce-6ecb-4c4c-8bc1-c07951a76c34",
   "metadata": {},
   "outputs": [],
   "source": [
    "comp=(4+6j)"
   ]
  },
  {
   "cell_type": "code",
   "execution_count": 25,
   "id": "1da47f2e-2842-4607-9165-9d67b7a229ce",
   "metadata": {},
   "outputs": [
    {
     "data": {
      "text/plain": [
       "complex"
      ]
     },
     "execution_count": 25,
     "metadata": {},
     "output_type": "execute_result"
    }
   ],
   "source": [
    "type(comp)"
   ]
  },
  {
   "cell_type": "markdown",
   "id": "9b0a63fa-062e-4c32-9285-ae2002587cc9",
   "metadata": {},
   "source": [
    "Q7. What is the correct way to declare a variable named age and assign the value 25 to it?"
   ]
  },
  {
   "cell_type": "code",
   "execution_count": 21,
   "id": "f2704229-d666-47ff-a345-1cdc690d4b1c",
   "metadata": {},
   "outputs": [],
   "source": [
    "Age=25"
   ]
  },
  {
   "cell_type": "markdown",
   "id": "6b3d893f-01d9-4a8b-9233-b34aab42f5ad",
   "metadata": {},
   "source": [
    "Q8. Declare a variable named price and assign the value 9.99 to it. What data type does this variable\n",
    "belong to?"
   ]
  },
  {
   "cell_type": "code",
   "execution_count": 13,
   "id": "35a36b14-300a-4c8e-a4d5-ea98a18a74fe",
   "metadata": {},
   "outputs": [
    {
     "name": "stdin",
     "output_type": "stream",
     "text": [
      "Enter the price 9.99\n"
     ]
    }
   ],
   "source": [
    "Price=(input(\"Enter the price\"))"
   ]
  },
  {
   "cell_type": "code",
   "execution_count": 14,
   "id": "d74ce6a2-1d0e-41be-85dd-10100b060174",
   "metadata": {},
   "outputs": [
    {
     "data": {
      "text/plain": [
       "str"
      ]
     },
     "execution_count": 14,
     "metadata": {},
     "output_type": "execute_result"
    }
   ],
   "source": [
    "type(Price)"
   ]
  },
  {
   "cell_type": "markdown",
   "id": "ebddfc6d-73cc-4d0e-8337-82f283ae1325",
   "metadata": {},
   "source": [
    "Q9. Create a variable named name and assign your full name to it as a string. How would you print the\n",
    "value of this variable?"
   ]
  },
  {
   "cell_type": "code",
   "execution_count": 15,
   "id": "11805f3e-9358-4e99-986c-4d54ec06cab4",
   "metadata": {},
   "outputs": [
    {
     "name": "stdin",
     "output_type": "stream",
     "text": [
      "Enter your full name Taruba Baig\n"
     ]
    }
   ],
   "source": [
    "Name=str(input(\"Enter your full name\"))"
   ]
  },
  {
   "cell_type": "markdown",
   "id": "eae33d24-3066-44cd-9d39-4c36530c2c5c",
   "metadata": {},
   "source": [
    "Q10. Given the string \"Hello, World!\", extract the substring \"World\"."
   ]
  },
  {
   "cell_type": "code",
   "execution_count": 20,
   "id": "0c5a4315-a019-4d35-935d-24d253a7890a",
   "metadata": {},
   "outputs": [
    {
     "name": "stdout",
     "output_type": "stream",
     "text": [
      "World\n"
     ]
    }
   ],
   "source": [
    "string=\"Hello, World!\"\n",
    "substring=string[7:12]\n",
    "print(substring)"
   ]
  },
  {
   "cell_type": "markdown",
   "id": "d6bd4e6c-4f28-468a-8806-9442dbcbe18e",
   "metadata": {},
   "source": [
    "Q11. Create a variable named \"is_student\" and assign it a boolean value indicating whether you are\n",
    "currently a student or not."
   ]
  },
  {
   "cell_type": "code",
   "execution_count": 26,
   "id": "e70d66e1-d470-46a8-9479-f5c096a1e214",
   "metadata": {},
   "outputs": [
    {
     "name": "stdin",
     "output_type": "stream",
     "text": [
      " True\n"
     ]
    },
    {
     "name": "stdout",
     "output_type": "stream",
     "text": [
      "I am a student\n"
     ]
    }
   ],
   "source": [
    "is_student=bool(input(\"\"))\n",
    "if is_student==True and is_student!=False:\n",
    "    print(\"I am a student\")\n",
    "                "
   ]
  },
  {
   "cell_type": "code",
   "execution_count": 23,
   "id": "fc83fe3c-6bbe-4d3f-8af1-c4366ece9650",
   "metadata": {},
   "outputs": [
    {
     "name": "stdout",
     "output_type": "stream",
     "text": [
      "True\n"
     ]
    }
   ],
   "source": [
    "is_student=True\n",
    "print(is_student)"
   ]
  },
  {
   "cell_type": "code",
   "execution_count": 17,
   "id": "3d941d35-fae7-43c1-9954-b1aedf90521e",
   "metadata": {},
   "outputs": [
    {
     "name": "stdout",
     "output_type": "stream",
     "text": [
      "Thank you\n"
     ]
    }
   ],
   "source": [
    "print(\"Thank you\")"
   ]
  },
  {
   "cell_type": "code",
   "execution_count": 23,
   "id": "2890e551-175a-4dc2-9cb8-0118fb98bf10",
   "metadata": {},
   "outputs": [
    {
     "name": "stdout",
     "output_type": "stream",
     "text": [
      "---------------------------------------------------------------------------------------------------------------------------------------------------------------------\n"
     ]
    }
   ],
   "source": [
    "print(\"---------------------------------------------------------------------------------------------------------------------------------------------------------------------\")"
   ]
  }
 ],
 "metadata": {
  "kernelspec": {
   "display_name": "Python 3 (ipykernel)",
   "language": "python",
   "name": "python3"
  },
  "language_info": {
   "codemirror_mode": {
    "name": "ipython",
    "version": 3
   },
   "file_extension": ".py",
   "mimetype": "text/x-python",
   "name": "python",
   "nbconvert_exporter": "python",
   "pygments_lexer": "ipython3",
   "version": "3.10.8"
  },
  "widgets": {
   "application/vnd.jupyter.widget-state+json": {
    "state": {},
    "version_major": 2,
    "version_minor": 0
   }
  }
 },
 "nbformat": 4,
 "nbformat_minor": 5
}
