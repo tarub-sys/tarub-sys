{
 "cells": [
  {
   "cell_type": "code",
   "execution_count": 1,
   "id": "8d8b8e64-a9e9-4024-8a93-61f654566821",
   "metadata": {},
   "outputs": [
    {
     "name": "stdout",
     "output_type": "stream",
     "text": [
      "Hello,Sir.This is my Assignment-Python for week 2\n"
     ]
    }
   ],
   "source": [
    "print(\"Hello,Sir.This is my Assignment-Python for week 2\")"
   ]
  },
  {
   "cell_type": "markdown",
   "id": "a5665725-3406-4e46-943a-e1c7ed05a828",
   "metadata": {},
   "source": [
    "Q1. Create a python program to sort the given list of tuples based on integer value using a\n",
    "lambda function.\n"
   ]
  },
  {
   "cell_type": "code",
   "execution_count": 2,
   "id": "48f21700-89c1-48e3-81f8-34595d5c3d8d",
   "metadata": {},
   "outputs": [],
   "source": [
    "from functools import reduce"
   ]
  },
  {
   "cell_type": "code",
   "execution_count": 3,
   "id": "b9310a9d-d88b-4da4-8af1-8d7d3b81cf05",
   "metadata": {},
   "outputs": [
    {
     "name": "stdout",
     "output_type": "stream",
     "text": [
      "List of tuples based on integer value\n",
      "('Virat Kohli', 24936)\n",
      "('Jack Kallis', 25534)\n",
      "('Ricky Ponting', 27483)\n",
      "('Sachin Tendulkar', 34357)\n"
     ]
    }
   ],
   "source": [
    "#listoftuples\n",
    "tuples=[('Sachin Tendulkar', 34357), ('Ricky Ponting', 27483), ('Jack Kallis', 25534), ('Virat Kohli', 24936)]\n",
    "list_sorted= sorted(tuples, key=lambda x: x[1])\n",
    "print(\"List of tuples based on integer value\")\n",
    "for item in list_sorted:\n",
    "    print(item)"
   ]
  },
  {
   "cell_type": "markdown",
   "id": "2ecee1e2-fb52-4a6d-95cb-8a65c4e721d3",
   "metadata": {},
   "source": [
    "Q2. Write a Python Program to finQ2. Write a Python Program to find the squares of all the numbers in the given list of integers using\n",
    "lambda and map functions.\n",
    "[1, 2, 3, 4, 5, 6, 7, 8, 9, 10]d the squares of all the numbers in the given list of integers using\n",
    "lambda and map functions.\n",
    "[1, 2, 3, 4, 5, 6, 7, 8, 9, 10]"
   ]
  },
  {
   "cell_type": "code",
   "execution_count": 4,
   "id": "a6b154a3-341d-47e9-a3cd-156ce011a779",
   "metadata": {},
   "outputs": [],
   "source": [
    "l= [1, 2, 3, 4, 5, 6, 7, 8, 9, 10]"
   ]
  },
  {
   "cell_type": "code",
   "execution_count": 5,
   "id": "7c343093-b787-48a8-9e2c-37f586d20ab7",
   "metadata": {},
   "outputs": [
    {
     "data": {
      "text/plain": [
       "[1, 4, 9, 16, 25, 36, 49, 64, 81, 100]"
      ]
     },
     "execution_count": 5,
     "metadata": {},
     "output_type": "execute_result"
    }
   ],
   "source": [
    "list(map(lambda x:x**2,l))"
   ]
  },
  {
   "cell_type": "markdown",
   "id": "19d86b0e-9539-46b2-b7b0-4d6350d2359e",
   "metadata": {},
   "source": [
    " Q3. Write a python program to convert the given list of integers into a tuple of strings. Use map and\n",
    " lambda functions"
   ]
  },
  {
   "cell_type": "markdown",
   "id": "1b5e9b59-f7d8-4323-b8d1-18a506359029",
   "metadata": {},
   "source": [
    "Given String: [1, 2, 3, 4, 5, 6, 7, 8, 9, 10]\n",
    "Expected output: ('1', '2', '3', '4', '5', '6', '7', '8', '9', '10')"
   ]
  },
  {
   "cell_type": "code",
   "execution_count": 6,
   "id": "f97c72d3-04ab-4f8a-a674-a50946fd526f",
   "metadata": {},
   "outputs": [],
   "source": [
    "s= [1, 2, 3, 4, 5, 6, 7, 8, 9, 10]"
   ]
  },
  {
   "cell_type": "code",
   "execution_count": 7,
   "id": "6f3b327d-59ef-48eb-860a-d80ec6f37f9c",
   "metadata": {},
   "outputs": [
    {
     "data": {
      "text/plain": [
       "['1', '2', '3', '4', '5', '6', '7', '8', '9', '10']"
      ]
     },
     "execution_count": 7,
     "metadata": {},
     "output_type": "execute_result"
    }
   ],
   "source": [
    "list(map(lambda x:str(x),s))"
   ]
  },
  {
   "cell_type": "markdown",
   "id": "4bb3d7bc-670e-47a3-a036-173c8464f1a9",
   "metadata": {},
   "source": [
    "Q4. Write a python program using reduce function to compute the product of a list containing numbers\n",
    "from 1 to 25."
   ]
  },
  {
   "cell_type": "code",
   "execution_count": 8,
   "id": "9ba06576-6fe8-406e-aa84-a0af6fe96e39",
   "metadata": {},
   "outputs": [],
   "source": [
    "from functools import reduce"
   ]
  },
  {
   "cell_type": "code",
   "execution_count": 9,
   "id": "b6ffc984-85f7-4bb5-beb8-47dcd5122d16",
   "metadata": {},
   "outputs": [
    {
     "name": "stdout",
     "output_type": "stream",
     "text": [
      "[1, 2, 3, 4, 5, 6, 7, 8, 9, 10, 11, 12, 13, 14, 15, 16, 17, 18, 19, 20, 21, 22, 23, 24, 25]\n",
      "The product of a list\n",
      "15511210043330985984000000\n"
     ]
    }
   ],
   "source": [
    "#To create the list from 1 to 25\n",
    "l2=list(range(1,26))\n",
    "print(l2)\n",
    "sum=reduce(lambda x,y:x*y,l2)\n",
    "print(\"The product of a list\")\n",
    "print(sum)"
   ]
  },
  {
   "cell_type": "markdown",
   "id": "4cfbb542-8f55-421e-8ab3-9ee09e78135f",
   "metadata": {},
   "source": [
    "Q5. Write a python program to filter the numbers in a given list that are divisible by 2 and 3 using the\n",
    "filter function.\n",
    "[2, 3, 6, 9, 27, 60, 90, 120, 55, 46]"
   ]
  },
  {
   "cell_type": "code",
   "execution_count": 10,
   "id": "4723de1d-5341-4bb5-bb37-f1ebb89b1780",
   "metadata": {},
   "outputs": [],
   "source": [
    "l3=[2, 3, 6, 9, 27, 60, 90, 120, 55, 46]"
   ]
  },
  {
   "cell_type": "code",
   "execution_count": 11,
   "id": "d750c8e7-6ce7-434e-8f67-ff06e6cfdd7b",
   "metadata": {},
   "outputs": [
    {
     "name": "stdout",
     "output_type": "stream",
     "text": [
      "The given list that are divisible by 2 and 3\n"
     ]
    },
    {
     "data": {
      "text/plain": [
       "[6, 60, 90, 120]"
      ]
     },
     "execution_count": 11,
     "metadata": {},
     "output_type": "execute_result"
    }
   ],
   "source": [
    "print(\"The given list that are divisible by 2 and 3\")\n",
    "(list(filter(lambda x:x%2==0 and x%3==0,l3)))"
   ]
  },
  {
   "cell_type": "markdown",
   "id": "3ce23cd3-9571-4b1b-9f8b-0d58dec2aec4",
   "metadata": {},
   "source": [
    "Q6. Write a python program to find palindromes in the given list of strings using lambda and filter\n",
    "function.['python', 'php', 'aba', 'radar', 'level']"
   ]
  },
  {
   "cell_type": "code",
   "execution_count": 12,
   "id": "0f95ff38-8b53-4565-8879-9b714500ee04",
   "metadata": {},
   "outputs": [
    {
     "name": "stdout",
     "output_type": "stream",
     "text": [
      "['php', 'aba', 'radar', 'level']\n"
     ]
    }
   ],
   "source": [
    "l4= ['python', 'php', 'aba', 'radar', 'level']\n",
    "palindromes=list(filter(lambda x:x==x[::-1],l4))\n",
    "print(palindromes)"
   ]
  },
  {
   "cell_type": "code",
   "execution_count": 13,
   "id": "4537cd2f-ad77-435d-81cd-e0967b8a18f8",
   "metadata": {},
   "outputs": [
    {
     "name": "stdout",
     "output_type": "stream",
     "text": [
      "Thank you,Sir.\n"
     ]
    }
   ],
   "source": [
    "print(\"Thank you,Sir.\")"
   ]
  },
  {
   "cell_type": "code",
   "execution_count": 14,
   "id": "bd5c1dbb-1a4b-4721-9c76-f6798f1ad13c",
   "metadata": {},
   "outputs": [
    {
     "name": "stdout",
     "output_type": "stream",
     "text": [
      "x-o-x-o-x-o-x-o-x-o-x-o-x-o-x-o-x-o-x-o-x-o-x-o-x-o-x-o-x-o-x-o-x-o-x-o-x-o-x-o-x-o-x-o-x-o-x-o-x-o-x-o-x-o-x-o-x-o-x\n"
     ]
    }
   ],
   "source": [
    "print(\"x-o-x-o-x-o-x-o-x-o-x-o-x-o-x-o-x-o-x-o-x-o-x-o-x-o-x-o-x-o-x-o-x-o-x-o-x-o-x-o-x-o-x-o-x-o-x-o-x-o-x-o-x-o-x-o-x-o-x\")"
   ]
  }
 ],
 "metadata": {
  "kernelspec": {
   "display_name": "Python 3 (ipykernel)",
   "language": "python",
   "name": "python3"
  },
  "language_info": {
   "codemirror_mode": {
    "name": "ipython",
    "version": 3
   },
   "file_extension": ".py",
   "mimetype": "text/x-python",
   "name": "python",
   "nbconvert_exporter": "python",
   "pygments_lexer": "ipython3",
   "version": "3.10.8"
  }
 },
 "nbformat": 4,
 "nbformat_minor": 5
}
