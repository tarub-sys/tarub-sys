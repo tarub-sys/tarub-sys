{
 "cells": [
  {
   "cell_type": "code",
   "execution_count": 1,
   "id": "f385fb58-8264-471e-a380-82ce3c656a32",
   "metadata": {},
   "outputs": [
    {
     "name": "stdout",
     "output_type": "stream",
     "text": [
      "Hello,Sir.This is my OOPS Assignemnt\n"
     ]
    }
   ],
   "source": [
    "print(\"Hello,Sir.This is my OOPS Assignemnt\")"
   ]
  },
  {
   "cell_type": "markdown",
   "id": "68054689-2907-40de-a319-197c5f069a7f",
   "metadata": {},
   "source": [
    "Q1. Explain Class and Object with respect to Object-Oriented Programming. Give a suitable example."
   ]
  },
  {
   "cell_type": "code",
   "execution_count": 2,
   "id": "d21c8fa3-fe43-46ab-b16b-34f543d7e2f0",
   "metadata": {},
   "outputs": [
    {
     "name": "stdout",
     "output_type": "stream",
     "text": [
      "Answer\n"
     ]
    }
   ],
   "source": [
    "\"\"\"\n",
    "CLASS:A Class in OOPS programming is a blueprint for creating objects. it is used to define the structure and behaviour of objects.\n",
    "OBJECt:Objects are the instances of a particular class.lists,tuples,sets,dictionary and variables everything is trrated as object in OOPS.\n",
    "\"\"\"\n",
    "print(\"Answer\")"
   ]
  },
  {
   "cell_type": "code",
   "execution_count": 3,
   "id": "5b0133fb-68d0-4103-91cd-650c71d74cb6",
   "metadata": {},
   "outputs": [],
   "source": [
    "#For Example:\n",
    "#If i want to assign \"tar\" as a class and object with a oocupation status, i can frame 'Is a  college student' a as object.\n",
    "\n",
    "class Tar:\n",
    "    def occupation_status(self):\n",
    "        print(\"Is a college student\")"
   ]
  },
  {
   "cell_type": "code",
   "execution_count": 4,
   "id": "b4bd69c7-d34d-4d82-9a14-c59f85516208",
   "metadata": {},
   "outputs": [],
   "source": [
    "rohan=Tar()"
   ]
  },
  {
   "cell_type": "code",
   "execution_count": 5,
   "id": "dd638eaf-c066-4593-9d66-6fa9b87ccd12",
   "metadata": {},
   "outputs": [
    {
     "name": "stdout",
     "output_type": "stream",
     "text": [
      "Is a college student\n"
     ]
    }
   ],
   "source": [
    "rohan.occupation_status()"
   ]
  },
  {
   "cell_type": "markdown",
   "id": "ed8ee2c1-eca0-47ea-9086-947732c1f5a8",
   "metadata": {},
   "source": [
    "Q2. Name the four pillars of OOPs."
   ]
  },
  {
   "cell_type": "code",
   "execution_count": 6,
   "id": "f41682fb-af91-45a9-ad20-e74f7e86c271",
   "metadata": {},
   "outputs": [
    {
     "name": "stdout",
     "output_type": "stream",
     "text": [
      "Answer\n"
     ]
    }
   ],
   "source": [
    "'''\n",
    "The four pillars of OOPS:\n",
    "1.Polymorphism.\n",
    "2.Encapsulation.\n",
    "3.Inheritance.\n",
    "4.Abscration.\n",
    "'''\n",
    "print(\"Answer\")"
   ]
  },
  {
   "cell_type": "markdown",
   "id": "9d76246e-83df-4f37-8515-88e5f755df07",
   "metadata": {},
   "source": [
    "Q3. Explain why the __init__() function is used. Give a suitable example."
   ]
  },
  {
   "cell_type": "code",
   "execution_count": 7,
   "id": "1698b44d-1310-4064-9665-90c5e305f3a3",
   "metadata": {},
   "outputs": [],
   "source": [
    "#Init Function:The purpose of the init function is to initialize the attributes of the object in OOPS,it is a special method that is called when  an object is created from a class."
   ]
  },
  {
   "cell_type": "code",
   "execution_count": 8,
   "id": "48304efe-5604-4c1f-a2cc-25feb4cd3262",
   "metadata": {},
   "outputs": [],
   "source": [
    "#For Example:I will take car as an class and define init method.\n",
    "class car:\n",
    "    def __init__(self,manufacture_date,company_name):\n",
    "        self.manufacture_date=manufacture_date\n",
    "        self.company_name=company_name\n",
    "        "
   ]
  },
  {
   "cell_type": "code",
   "execution_count": 9,
   "id": "87ccd9fc-c78d-4107-8ece-affcfc812cb7",
   "metadata": {},
   "outputs": [],
   "source": [
    "car1=car(2015,\"Toyota camry\")"
   ]
  },
  {
   "cell_type": "code",
   "execution_count": 10,
   "id": "bc0a540e-1147-4358-ac4e-dc0d4c95f991",
   "metadata": {},
   "outputs": [
    {
     "data": {
      "text/plain": [
       "'Toyota camry'"
      ]
     },
     "execution_count": 10,
     "metadata": {},
     "output_type": "execute_result"
    }
   ],
   "source": [
    "car1.company_name"
   ]
  },
  {
   "cell_type": "markdown",
   "id": "46dad419-4eb0-4556-8d0f-0703bc1e1827",
   "metadata": {},
   "source": [
    "Q4. Why self is used in OOPs?"
   ]
  },
  {
   "cell_type": "code",
   "execution_count": 11,
   "id": "be6f240e-e2a4-4956-909f-6d81ff165a72",
   "metadata": {},
   "outputs": [
    {
     "name": "stdout",
     "output_type": "stream",
     "text": [
      "Answer\n"
     ]
    }
   ],
   "source": [
    "'''\n",
    "SELF:The self keyword is used as a reference to the class.\n",
    "The function of self keyword is used as a parameter in method within clasd.the self parameter allows the method to access and manipulate the object's attributes.\n",
    "''' \n",
    "print(\"Answer\")"
   ]
  },
  {
   "cell_type": "markdown",
   "id": "6237c73a-3551-404f-abab-249a14a62c51",
   "metadata": {},
   "source": [
    "Q5. What is inheritance? Give an example for each type of inheritance."
   ]
  },
  {
   "cell_type": "code",
   "execution_count": 12,
   "id": "325bc2a7-40d2-4750-8607-d0026de4b552",
   "metadata": {},
   "outputs": [
    {
     "name": "stdout",
     "output_type": "stream",
     "text": [
      "Answer\n"
     ]
    }
   ],
   "source": [
    "\"\"\"\n",
    "Inheritance method:Inheritance method  allows us to define a class that inherits all the methods and properties from parent/another class.\n",
    "The class that is being inherited from is called parent/base class, while the class than iherits the properties from the base class is callled child/derived class.\n",
    "\n",
    "In the OOPS,There are four types of inheritance:\n",
    "1.Single inheritance\n",
    "2.Mutiple inheritance\n",
    "3.Hierarchical inheritance\n",
    "4.Multilevel inheritance\n",
    "\"\"\"\n",
    "print(\"Answer\")"
   ]
  },
  {
   "cell_type": "code",
   "execution_count": 13,
   "id": "4ad920c0-0ea5-4a45-a252-404f084b6d67",
   "metadata": {},
   "outputs": [],
   "source": [
    "#Example of inheritance:-\n",
    "class parent:\n",
    "    def test_parent(self):\n",
    "        print(\"This is my parent class\")"
   ]
  },
  {
   "cell_type": "code",
   "execution_count": 14,
   "id": "5e3dbfd5-5ae9-4362-ae91-82f7d4880e42",
   "metadata": {},
   "outputs": [],
   "source": [
    "class child(parent):\n",
    "    pass"
   ]
  },
  {
   "cell_type": "code",
   "execution_count": 15,
   "id": "45e66e50-0e4d-4dd3-95ab-5c5ca0196764",
   "metadata": {},
   "outputs": [],
   "source": [
    "child_obj=child()"
   ]
  },
  {
   "cell_type": "code",
   "execution_count": 16,
   "id": "8e4be2af-f53c-4170-b5b0-7f91a6ad5a67",
   "metadata": {},
   "outputs": [
    {
     "name": "stdout",
     "output_type": "stream",
     "text": [
      "This is my parent class\n"
     ]
    }
   ],
   "source": [
    "child_obj.test_parent()"
   ]
  },
  {
   "cell_type": "code",
   "execution_count": 17,
   "id": "1ca09970-41f2-44d0-8b40-bee01e83e3e6",
   "metadata": {},
   "outputs": [],
   "source": [
    "#1.Single inheritance:In single inheritance, a derived class is created from a single base class . The derived class inherits all the attributes and methods of the base class.\n",
    "#for Example:"
   ]
  },
  {
   "cell_type": "code",
   "execution_count": 18,
   "id": "a16a1f59-c4e9-4371-993e-b818c8146cf3",
   "metadata": {},
   "outputs": [],
   "source": [
    "class parent:\n",
    "    def test_parent(self):\n",
    "        print(\"This is my parent class\")"
   ]
  },
  {
   "cell_type": "code",
   "execution_count": 19,
   "id": "d208621e-cc4c-4665-af48-c385a1e21af6",
   "metadata": {},
   "outputs": [],
   "source": [
    "class child(parent):\n",
    "    pass"
   ]
  },
  {
   "cell_type": "code",
   "execution_count": 20,
   "id": "b8008712-873a-4929-9636-629fea202d98",
   "metadata": {},
   "outputs": [],
   "source": [
    "child_obj=child()"
   ]
  },
  {
   "cell_type": "code",
   "execution_count": 21,
   "id": "ab182db3-b87c-4598-9e3d-26711a839e1c",
   "metadata": {},
   "outputs": [
    {
     "name": "stdout",
     "output_type": "stream",
     "text": [
      "This is my parent class\n"
     ]
    }
   ],
   "source": [
    "child_obj.test_parent()"
   ]
  },
  {
   "cell_type": "code",
   "execution_count": 22,
   "id": "df25a863-ac83-46a6-a7d0-739f283664f1",
   "metadata": {},
   "outputs": [],
   "source": [
    "#2.Multiple inheritance:- It allows a derived class to derive from multiple parent classes,combining their attributes and methods.\n",
    "\n",
    "class BaseClass1:\n",
    "    def method1(self):\n",
    "        print(\"This is Method 1 from BaseClass1\")\n",
    "\n",
    "class BaseClass2:\n",
    "    def method2(self):\n",
    "        print(\"This is Method 2 from BaseClass2\")\n",
    "\n",
    "class BaseClass3(BaseClass1, BaseClass2):\n",
    "    pass"
   ]
  },
  {
   "cell_type": "code",
   "execution_count": 23,
   "id": "740cc514-5770-4efd-9456-6e9585ad2874",
   "metadata": {},
   "outputs": [],
   "source": [
    "obj=BaseClass3()"
   ]
  },
  {
   "cell_type": "code",
   "execution_count": 24,
   "id": "62936c45-656c-401d-b017-3f7ddcb52fc4",
   "metadata": {},
   "outputs": [
    {
     "name": "stdout",
     "output_type": "stream",
     "text": [
      "This is Method 1 from BaseClass1\n"
     ]
    }
   ],
   "source": [
    "obj.method1()"
   ]
  },
  {
   "cell_type": "code",
   "execution_count": 25,
   "id": "aad514a2-a7f7-4bfe-aa0f-e0fb026b670a",
   "metadata": {},
   "outputs": [],
   "source": [
    "#3.Mutilevel iheritance:- In Python refers o the ability of a class to inherit attributes and methods from multiple base classes. \n",
    "class class1:\n",
    "    def test_class1(self):\n",
    "        print(\"This is my class1\")"
   ]
  },
  {
   "cell_type": "code",
   "execution_count": 26,
   "id": "d16ecd75-0be3-4e3f-8180-4006b4a6b203",
   "metadata": {},
   "outputs": [],
   "source": [
    "class class2(class1):\n",
    "    def test_class2(self):\n",
    "        print(\"This is my class2\")"
   ]
  },
  {
   "cell_type": "code",
   "execution_count": 27,
   "id": "fef86761-bd73-4d59-aca7-c106f48c67cf",
   "metadata": {},
   "outputs": [],
   "source": [
    "class class3(class2):\n",
    "    def test_class3(self):\n",
    "        print(\"This is my class3\")"
   ]
  },
  {
   "cell_type": "code",
   "execution_count": 28,
   "id": "12f549ee-ba26-4254-9d70-af7bb70f122a",
   "metadata": {},
   "outputs": [],
   "source": [
    "obj_class3=class3()"
   ]
  },
  {
   "cell_type": "code",
   "execution_count": 29,
   "id": "f02e4efd-6fd1-48fd-b49c-78ada8f26c85",
   "metadata": {},
   "outputs": [
    {
     "name": "stdout",
     "output_type": "stream",
     "text": [
      "This is my class1\n"
     ]
    }
   ],
   "source": [
    "obj_class3.test_class1()"
   ]
  },
  {
   "cell_type": "code",
   "execution_count": 30,
   "id": "1100250a-9346-416a-b004-e016f41fcca0",
   "metadata": {},
   "outputs": [
    {
     "name": "stdout",
     "output_type": "stream",
     "text": [
      "This is my class2\n"
     ]
    }
   ],
   "source": [
    "obj_class3.test_class2()"
   ]
  },
  {
   "cell_type": "code",
   "execution_count": 31,
   "id": "74d2ce0b-07a6-49cc-8947-db3f68371652",
   "metadata": {},
   "outputs": [],
   "source": [
    "#4.Hierarchical inheritance:- Hierarchical inheritance  is a type of inheritance in Python where multiple derived classes are created from a single base class. In this type of inheritance, each derived class inherits the properties and behaviors of the base class, but they do not inherit from each other."
   ]
  },
  {
   "cell_type": "code",
   "execution_count": 32,
   "id": "3f55b18b-c6da-427d-b5db-a3cf4a30415e",
   "metadata": {},
   "outputs": [],
   "source": [
    "#For example:\n",
    "class Animal:\n",
    "    def eat(self):\n",
    "        print(\"Animal is eating.\")\n",
    "\n",
    "class Dog(Animal):\n",
    "    def bark(self):\n",
    "        print(\"Woof!\")\n",
    "        pass\n",
    "\n",
    "class Cat(Animal):\n",
    "    def meow(self):\n",
    "        print(\"Meow!\")\n",
    "        pass"
   ]
  },
  {
   "cell_type": "code",
   "execution_count": 33,
   "id": "08266295-7651-4b9f-863e-f2b4b268ea2b",
   "metadata": {},
   "outputs": [],
   "source": [
    "Dog_obj=Dog()"
   ]
  },
  {
   "cell_type": "code",
   "execution_count": 34,
   "id": "af6bf3c8-b740-40a2-9c7b-284aa665ee89",
   "metadata": {},
   "outputs": [
    {
     "name": "stdout",
     "output_type": "stream",
     "text": [
      "Woof!\n"
     ]
    }
   ],
   "source": [
    "Dog_obj.bark()"
   ]
  },
  {
   "cell_type": "code",
   "execution_count": 35,
   "id": "4f8e59a8-edf5-45b0-8e92-9ccbf0feb675",
   "metadata": {},
   "outputs": [],
   "source": [
    "Dog_obj=Cat()"
   ]
  },
  {
   "cell_type": "code",
   "execution_count": 36,
   "id": "f889c68f-5dc9-4e69-8849-747186497ef4",
   "metadata": {},
   "outputs": [
    {
     "name": "stdout",
     "output_type": "stream",
     "text": [
      "Meow!\n"
     ]
    }
   ],
   "source": [
    "Dog_obj.meow()"
   ]
  },
  {
   "cell_type": "code",
   "execution_count": 37,
   "id": "3d38507c-26c8-4843-a87b-f3127250f4a7",
   "metadata": {},
   "outputs": [],
   "source": [
    "Cat_obj=Cat()"
   ]
  },
  {
   "cell_type": "code",
   "execution_count": 38,
   "id": "ce901ce5-0528-46a5-a3ac-a9a97a34fdf5",
   "metadata": {},
   "outputs": [],
   "source": [
    "Cat_obj=Dog()"
   ]
  },
  {
   "cell_type": "code",
   "execution_count": 39,
   "id": "872ae0ef-b7cb-4a9e-a0b5-0325fac94df4",
   "metadata": {},
   "outputs": [
    {
     "name": "stdout",
     "output_type": "stream",
     "text": [
      "Woof!\n"
     ]
    }
   ],
   "source": [
    "Cat_obj.bark()"
   ]
  },
  {
   "cell_type": "code",
   "execution_count": 40,
   "id": "e1b1e385-64a0-4b63-bf63-f315d2747583",
   "metadata": {},
   "outputs": [
    {
     "name": "stdout",
     "output_type": "stream",
     "text": [
      "Thank you,Sir.\n"
     ]
    }
   ],
   "source": [
    "print(\"Thank you,Sir.\")"
   ]
  },
  {
   "cell_type": "code",
   "execution_count": 41,
   "id": "b9106575-c7dc-4e9a-a882-2e198ed1d872",
   "metadata": {},
   "outputs": [
    {
     "name": "stdout",
     "output_type": "stream",
     "text": [
      "x-o-x-o-x-o-x-o-x-o-x-o-x-o-x-o-x-o-x-o-x-o-x-o-x\n"
     ]
    }
   ],
   "source": [
    "print(\"x-o-x-o-x-o-x-o-x-o-x-o-x-o-x-o-x-o-x-o-x-o-x-o-x\")\n"
   ]
  }
 ],
 "metadata": {
  "kernelspec": {
   "display_name": "Python 3 (ipykernel)",
   "language": "python",
   "name": "python3"
  },
  "language_info": {
   "codemirror_mode": {
    "name": "ipython",
    "version": 3
   },
   "file_extension": ".py",
   "mimetype": "text/x-python",
   "name": "python",
   "nbconvert_exporter": "python",
   "pygments_lexer": "ipython3",
   "version": "3.10.8"
  }
 },
 "nbformat": 4,
 "nbformat_minor": 5
}
