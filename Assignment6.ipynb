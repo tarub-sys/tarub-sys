{
 "cells": [
  {
   "cell_type": "code",
   "execution_count": 1,
   "id": "97d66ebf-bf9c-4b2e-b808-00ba7a06ad53",
   "metadata": {},
   "outputs": [
    {
     "name": "stdout",
     "output_type": "stream",
     "text": [
      "Hello,Sir.This is my OOPs Task Assignment\n"
     ]
    }
   ],
   "source": [
    "print(\"Hello,Sir.This is my OOPs Task Assignment\")"
   ]
  },
  {
   "cell_type": "markdown",
   "id": "e19713ca-17dd-493b-b495-ca852a583454",
   "metadata": {},
   "source": [
    "Q1, Create a vehicle class with an init method having instance variables as name_of_vehicle, max_speed\n",
    "and average_of_vehicle."
   ]
  },
  {
   "cell_type": "code",
   "execution_count": 2,
   "id": "2dfc3a60-c575-45e6-a601-b7ec0ed5a341",
   "metadata": {},
   "outputs": [],
   "source": [
    "class vehicle_class:\n",
    "    \n",
    "    def __init__(self,name_of_vehicle, max_speed, average_of_vehicle):\n",
    "        \n",
    "        self.name_of_vehicle=name_of_vehicle\n",
    "        self.max_speed=max_speed\n",
    "        self.average_of_vehicle=average_of_vehicle"
   ]
  },
  {
   "cell_type": "code",
   "execution_count": 3,
   "id": "3f9f515c-3941-4b82-943f-4ec3939b0e43",
   "metadata": {},
   "outputs": [],
   "source": [
    "Car1=vehicle_class(\"Hyundai\",160,70)"
   ]
  },
  {
   "cell_type": "code",
   "execution_count": 4,
   "id": "9fe24093-d64b-4517-b2cb-eaf724d7905b",
   "metadata": {},
   "outputs": [
    {
     "data": {
      "text/plain": [
       "'Hyundai'"
      ]
     },
     "execution_count": 4,
     "metadata": {},
     "output_type": "execute_result"
    }
   ],
   "source": [
    "Car1.name_of_vehicle"
   ]
  },
  {
   "cell_type": "markdown",
   "id": "f56f01aa-0f32-44a9-b621-fc85f7f14ca8",
   "metadata": {},
   "source": [
    "Q2. Create a child class car from the vehicle class created in Que 1, which will inherit the vehicle class.\n",
    "Create a method named seating_capacity which takes capacity as an argument and returns the name of\n",
    "the vehicle and its seating capacity."
   ]
  },
  {
   "cell_type": "code",
   "execution_count": 5,
   "id": "13723b68-1ce2-441b-bc08-d8a54439f675",
   "metadata": {},
   "outputs": [],
   "source": [
    "class vehicle_class:\n",
    "    \n",
    "    def __init__(self,name_of_vehicle,max_speed,average_of_vehicle):\n",
    "   \n",
    "         self.name_of_vehicle=name_of_vehicle\n",
    "         self.max_speed=max_speed\n",
    "         self.average_of_vehicle=average_of_vehicle\n",
    "    \n",
    "class Car(vehicle_class):\n",
    "    def seating_capacity(self,capacity):\n",
    "        return f\"The {self.name_of_vehicle} has a seating capacity of {capacity} people.\""
   ]
  },
  {
   "cell_type": "code",
   "execution_count": 6,
   "id": "4fe0596e-1928-42c3-ad20-c2392a35ab46",
   "metadata": {},
   "outputs": [
    {
     "name": "stdout",
     "output_type": "stream",
     "text": [
      "The Hyundai has a seating capacity of 6 people.\n"
     ]
    }
   ],
   "source": [
    "Car1=Car(\"Hyundai\",160,70)\n",
    "print(Car1.seating_capacity(6))"
   ]
  },
  {
   "cell_type": "markdown",
   "id": "1beb44ba-6cab-47dd-9ad0-7f65334cef11",
   "metadata": {},
   "source": [
    "Q3. What is multiple inheritance? Write a python code to demonstrate multiple inheritance."
   ]
  },
  {
   "cell_type": "code",
   "execution_count": 7,
   "id": "a6b41e89-0811-439c-890e-ae0bf1f4c61a",
   "metadata": {},
   "outputs": [
    {
     "name": "stdout",
     "output_type": "stream",
     "text": [
      "Answer\n"
     ]
    }
   ],
   "source": [
    "\"\"\"\n",
    "Mutiple iheritance:-Multiple inheritance in Python refers to the ability of a class to inherit attributes and methods from multiple base classes.\n",
    "It allows a derived class to derive from multiple parent classes, combining their attributes and methods.\n",
    "\"\"\"\n",
    "print(\"Answer\")"
   ]
  },
  {
   "cell_type": "code",
   "execution_count": 8,
   "id": "bda9a5d9-d566-4efd-9062-44953b929f92",
   "metadata": {},
   "outputs": [],
   "source": [
    "class class1:\n",
    "    def type_class1(self):\n",
    "        print(\"This is my class1\")"
   ]
  },
  {
   "cell_type": "code",
   "execution_count": 9,
   "id": "311969b2-6b88-4c44-8df4-111133068f50",
   "metadata": {},
   "outputs": [],
   "source": [
    "class class2:\n",
    "    def type_class2(self):\n",
    "        print(\"This is my class2\")"
   ]
  },
  {
   "cell_type": "code",
   "execution_count": 10,
   "id": "542753dd-9fef-427e-9488-0dd5e7033d12",
   "metadata": {},
   "outputs": [],
   "source": [
    "class class3(class1,class2):\n",
    "    pass"
   ]
  },
  {
   "cell_type": "code",
   "execution_count": 11,
   "id": "86c711fc-3c05-45eb-bad1-d57ac507b3f6",
   "metadata": {},
   "outputs": [],
   "source": [
    "obj_class3=class3()"
   ]
  },
  {
   "cell_type": "code",
   "execution_count": 12,
   "id": "6f8e052b-6de6-4259-9c39-1799cfea3d4e",
   "metadata": {},
   "outputs": [
    {
     "name": "stdout",
     "output_type": "stream",
     "text": [
      "This is my class2\n"
     ]
    }
   ],
   "source": [
    "obj_class3.type_class2()"
   ]
  },
  {
   "cell_type": "code",
   "execution_count": 13,
   "id": "c27cbaa7-5751-443c-8092-b6b3e6bbe68e",
   "metadata": {},
   "outputs": [
    {
     "name": "stdout",
     "output_type": "stream",
     "text": [
      "This is my class1\n"
     ]
    }
   ],
   "source": [
    "obj_class3.type_class1()"
   ]
  },
  {
   "cell_type": "markdown",
   "id": "8ed30843-e01c-4bb5-9679-daeae305a374",
   "metadata": {},
   "source": [
    "Q4. What are getter and setter in python? Create a class and create a getter and a setter method in this\n",
    "class."
   ]
  },
  {
   "cell_type": "code",
   "execution_count": 14,
   "id": "76b83a64-20fb-43ab-b910-db6dc37f1ed5",
   "metadata": {},
   "outputs": [
    {
     "name": "stdout",
     "output_type": "stream",
     "text": [
      "Answer 1\n"
     ]
    }
   ],
   "source": [
    "\"\"\"\n",
    "1.Getter:This is a function for the property method in OOPS.\n",
    "In Python, A getter is a method or function that is used to access the value of a private or protected attribute of an object.\n",
    "\"\"\"\n",
    "print(\"Answer 1\")"
   ]
  },
  {
   "cell_type": "code",
   "execution_count": 15,
   "id": "2a1376f4-fee9-4553-af69-0f0cfeefa67b",
   "metadata": {},
   "outputs": [],
   "source": [
    "#Example of Getter:\n",
    "class pwskills1:\n",
    "    def __init__(self,name,number):\n",
    "        self._name=name\n",
    "        self.number=number\n",
    "        \n",
    "    @property \n",
    "    def name(self):\n",
    "        return self._name\n"
   ]
  },
  {
   "cell_type": "code",
   "execution_count": 16,
   "id": "738cbfd6-7816-4213-aa43-6f39fe7a787d",
   "metadata": {},
   "outputs": [],
   "source": [
    "rohan=pwskills1(\"sky\",976544567894)"
   ]
  },
  {
   "cell_type": "code",
   "execution_count": 17,
   "id": "903f45df-003f-44b6-a43a-4eab78f43ebf",
   "metadata": {},
   "outputs": [
    {
     "data": {
      "text/plain": [
       "'sky'"
      ]
     },
     "execution_count": 17,
     "metadata": {},
     "output_type": "execute_result"
    }
   ],
   "source": [
    "rohan.name"
   ]
  },
  {
   "cell_type": "code",
   "execution_count": 18,
   "id": "2155175a-8739-4ef9-ba14-79d539e02e8d",
   "metadata": {},
   "outputs": [
    {
     "name": "stdout",
     "output_type": "stream",
     "text": [
      "Answer for the Setter\n"
     ]
    }
   ],
   "source": [
    "\"\"\"\n",
    "Setter:-The setter method is a part of the property method which is used to give speciality function.\n",
    "In python,setter is used to set the value of a private or procted attribute of an object.\n",
    "\"\"\"\n",
    "print(\"Answer for the Setter\")"
   ]
  },
  {
   "cell_type": "code",
   "execution_count": 19,
   "id": "442d8eff-633e-4d45-9cc9-0d9648240695",
   "metadata": {},
   "outputs": [],
   "source": [
    "#Example of Setter:-\n",
    "class college:\n",
    "    def __init__(self,college_name,located):\n",
    "        self.__college_name=college_name\n",
    "        self.located=located\n",
    "        \n",
    "    @property\n",
    "    def college_name_access(self):\n",
    "        return self.__college_name\n",
    "   \n",
    "    @college_name_access.setter\n",
    "    def college_name_access_set(self,name):\n",
    "        if name == \"kjsomaiyaa\":\n",
    "            pass\n",
    "        else:\n",
    "            self.college_name=name"
   ]
  },
  {
   "cell_type": "code",
   "execution_count": 20,
   "id": "7bf293da-0ccd-4bc4-bda6-cee05b521275",
   "metadata": {},
   "outputs": [],
   "source": [
    "clg=college(\"kjsomaiyaa\",\"vidhayavhar\")"
   ]
  },
  {
   "cell_type": "code",
   "execution_count": 21,
   "id": "4249bdee-fb0c-4a1c-bc66-95ac998b0a22",
   "metadata": {},
   "outputs": [
    {
     "data": {
      "text/plain": [
       "'kjsomaiyaa'"
      ]
     },
     "execution_count": 21,
     "metadata": {},
     "output_type": "execute_result"
    }
   ],
   "source": [
    "clg.college_name_access"
   ]
  },
  {
   "cell_type": "code",
   "execution_count": 22,
   "id": "2c6a218e-5e07-41da-87ca-9b115ad241a1",
   "metadata": {},
   "outputs": [],
   "source": [
    "clg.college_name_access_set=\"jaihind\""
   ]
  },
  {
   "cell_type": "code",
   "execution_count": 23,
   "id": "384dae42-982f-4e04-9cb4-d23c4bc0c1bc",
   "metadata": {},
   "outputs": [
    {
     "data": {
      "text/plain": [
       "'kjsomaiyaa'"
      ]
     },
     "execution_count": 23,
     "metadata": {},
     "output_type": "execute_result"
    }
   ],
   "source": [
    "clg.college_name_access"
   ]
  },
  {
   "cell_type": "markdown",
   "id": "a2305806-2451-44a2-9e11-58d286c21d52",
   "metadata": {},
   "source": [
    "Q5.What is method overriding in python? Write a python code to demonstrate method overriding."
   ]
  },
  {
   "cell_type": "code",
   "execution_count": 24,
   "id": "798e243d-d76d-4837-b370-4035432f0cdc",
   "metadata": {},
   "outputs": [
    {
     "name": "stdout",
     "output_type": "stream",
     "text": [
      "Answer\n"
     ]
    }
   ],
   "source": [
    "\"\"\"\n",
    "Method Overriding:-This Method allows us to create a subclass or childclass to provide its own function or implentation for the the already existing parent class.\n",
    "With the help of this,We can allows the subclass to customize the behavior of the method according to its specific needs.\n",
    "\"\"\"\n",
    "print(\"Answer\")"
   ]
  },
  {
   "cell_type": "code",
   "execution_count": 25,
   "id": "483950c1-02ea-42b3-acdd-6e4f9d8f7dcc",
   "metadata": {},
   "outputs": [],
   "source": [
    "class Music:\n",
    "     def feeling(self):\n",
    "        print(\"This make us feel happy\")\n",
    "    \n",
    "class Nature:\n",
    "     def feeling2(self):\n",
    "        print(\"This makes us feel peace\")\n",
    "             \n",
    "class Money(Music,Nature):\n",
    "    def feeling(self):\n",
    "        pass\n",
    "     "
   ]
  },
  {
   "cell_type": "code",
   "execution_count": 26,
   "id": "64802527-4412-4d54-8370-2e8f9ac6b835",
   "metadata": {},
   "outputs": [],
   "source": [
    "music=Music()\n",
    "nature=Nature()"
   ]
  },
  {
   "cell_type": "code",
   "execution_count": 27,
   "id": "72a15d8d-6363-4760-b47f-da3051afdbe5",
   "metadata": {},
   "outputs": [
    {
     "name": "stdout",
     "output_type": "stream",
     "text": [
      "This make us feel happy\n"
     ]
    }
   ],
   "source": [
    "music.feeling()"
   ]
  },
  {
   "cell_type": "code",
   "execution_count": 28,
   "id": "5dc13696-4ee4-4086-b573-f099b631e40b",
   "metadata": {},
   "outputs": [
    {
     "name": "stdout",
     "output_type": "stream",
     "text": [
      "This makes us feel peace\n"
     ]
    }
   ],
   "source": [
    "nature.feeling2()"
   ]
  },
  {
   "cell_type": "code",
   "execution_count": 29,
   "id": "03c39923-d84c-4414-bf1e-3f4e5d431b71",
   "metadata": {},
   "outputs": [],
   "source": [
    "money=Money()"
   ]
  },
  {
   "cell_type": "code",
   "execution_count": 30,
   "id": "c55a355a-693c-4128-9382-e716b824d051",
   "metadata": {},
   "outputs": [
    {
     "name": "stdout",
     "output_type": "stream",
     "text": [
      "This makes us feel peace\n"
     ]
    }
   ],
   "source": [
    "money.feeling2()"
   ]
  },
  {
   "cell_type": "code",
   "execution_count": 31,
   "id": "14e1412d-5e7c-4ec8-b7b2-d96fc16711f9",
   "metadata": {},
   "outputs": [
    {
     "name": "stdout",
     "output_type": "stream",
     "text": [
      "Thank you,Sir\n"
     ]
    }
   ],
   "source": [
    "print(\"Thank you,Sir\")"
   ]
  },
  {
   "cell_type": "code",
   "execution_count": 32,
   "id": "0a76a78e-4453-44b2-9026-2b68204b0d55",
   "metadata": {},
   "outputs": [
    {
     "name": "stdout",
     "output_type": "stream",
     "text": [
      "x-o-x-o-x-o-xx-o-x-o-x-o-x-o-x-o-x-o-x-o-x-o-x-o-x-o-x-o-x-o-x-o-x-o-x-o-x-o-x-o-x-o-x-o-x-o-x-o-x-ox-o-x\n"
     ]
    }
   ],
   "source": [
    "print(\"x-o-x-o-x-o-xx-o-x-o-x-o-x-o-x-o-x-o-x-o-x-o-x-o-x-o-x-o-x-o-x-o-x-o-x-o-x-o-x-o-x-o-x-o-x-o-x-o-x-ox-o-x\")"
   ]
  }
 ],
 "metadata": {
  "kernelspec": {
   "display_name": "Python 3 (ipykernel)",
   "language": "python",
   "name": "python3"
  },
  "language_info": {
   "codemirror_mode": {
    "name": "ipython",
    "version": 3
   },
   "file_extension": ".py",
   "mimetype": "text/x-python",
   "name": "python",
   "nbconvert_exporter": "python",
   "pygments_lexer": "ipython3",
   "version": "3.10.8"
  }
 },
 "nbformat": 4,
 "nbformat_minor": 5
}
