{
 "cells": [
  {
   "cell_type": "code",
   "execution_count": 1,
   "id": "344e2cca-9c3f-4e52-9695-236052ab2689",
   "metadata": {},
   "outputs": [
    {
     "name": "stdout",
     "output_type": "stream",
     "text": [
      "Hello,Sir.This is my Assignment 3\n"
     ]
    }
   ],
   "source": [
    "print(\"Hello,Sir.This is my Assignment 3\")"
   ]
  },
  {
   "cell_type": "markdown",
   "id": "3f78411b-e2f5-4716-8f88-0e85cff5101f",
   "metadata": {},
   "source": [
    "Q1. Which keyword is used to create a function? Create a function to return a list of odd numbers in the\n",
    "range of 1 to 25."
   ]
  },
  {
   "cell_type": "code",
   "execution_count": 2,
   "id": "66068793-9704-4348-8683-6272126bcc10",
   "metadata": {},
   "outputs": [],
   "source": [
    "#The'def'keyword is used to create function."
   ]
  },
  {
   "cell_type": "code",
   "execution_count": 3,
   "id": "0b5c6f74-7eaf-4b57-8e11-8ebb725dbe08",
   "metadata": {},
   "outputs": [],
   "source": [
    "def odd_numbers():\n",
    "    odds = []\n",
    "    for num in range(1, 26):\n",
    "        if num % 2 != 0:\n",
    "            odds.append(num)\n",
    "    return odds"
   ]
  },
  {
   "cell_type": "code",
   "execution_count": 4,
   "id": "508b3e9c-b4f5-4e9b-93c6-2de4f69aa7b3",
   "metadata": {},
   "outputs": [
    {
     "data": {
      "text/plain": [
       "[1, 3, 5, 7, 9, 11, 13, 15, 17, 19, 21, 23, 25]"
      ]
     },
     "execution_count": 4,
     "metadata": {},
     "output_type": "execute_result"
    }
   ],
   "source": [
    "odd_numbers()"
   ]
  },
  {
   "cell_type": "markdown",
   "id": "0ab42348-c243-4eb4-a43c-8bc252b6dbfa",
   "metadata": {},
   "source": [
    "Q2. Why *args and **kwargs is used in some functions? Create a function each for *args and **kwargs to\n",
    "demonstrate their use."
   ]
  },
  {
   "cell_type": "code",
   "execution_count": 5,
   "id": "fee9629f-b004-4826-bbf5-c46e247ce625",
   "metadata": {},
   "outputs": [],
   "source": [
    "'''\n",
    "ARGS: This is used to pass any nos. of varible-number of arguments in a non-keyworded arguments and to perform any number of function.\n",
    "'''\n",
    "pass"
   ]
  },
  {
   "cell_type": "code",
   "execution_count": 6,
   "id": "cd3434c7-5fb1-4339-9c70-722e3d785e85",
   "metadata": {},
   "outputs": [],
   "source": [
    "#For Example:\n",
    "def test1(*args):\n",
    "    return args\n"
   ]
  },
  {
   "cell_type": "code",
   "execution_count": 7,
   "id": "4b83e54f-3955-4bc5-9cbd-9ba004234fb5",
   "metadata": {},
   "outputs": [
    {
     "data": {
      "text/plain": [
       "([1, 2, 3], 1, 2, 3)"
      ]
     },
     "execution_count": 7,
     "metadata": {},
     "output_type": "execute_result"
    }
   ],
   "source": [
    "test1([1,2,3],1,2,3)"
   ]
  },
  {
   "cell_type": "code",
   "execution_count": 8,
   "id": "0381ae56-f871-4907-81f3-7b34c6373375",
   "metadata": {},
   "outputs": [
    {
     "data": {
      "text/plain": [
       "([1, 2, 3], 1, 2, 3, ['sir', 'class', 'skills'])"
      ]
     },
     "execution_count": 8,
     "metadata": {},
     "output_type": "execute_result"
    }
   ],
   "source": [
    "test1([1,2,3],1,2,3,[\"sir\",\"class\",\"skills\"])"
   ]
  },
  {
   "cell_type": "code",
   "execution_count": 9,
   "id": "7e33c61e-2ccf-49ac-9bf4-8596c32ab492",
   "metadata": {},
   "outputs": [],
   "source": [
    "#This function will take and return any numbers of arguement in a function ."
   ]
  },
  {
   "cell_type": "code",
   "execution_count": 10,
   "id": "8dcf8e7f-dae3-44cb-b05c-f0d3fff3c59d",
   "metadata": {},
   "outputs": [],
   "source": [
    "'''\n",
    "KWARGS:This is used to pass any nos. of varible-number of arguments in a keyworded arguments and to perform any number of function.\n",
    "'''\n",
    "pass"
   ]
  },
  {
   "cell_type": "code",
   "execution_count": 11,
   "id": "be6256d7-6844-4dcc-b9e0-2a8434f40571",
   "metadata": {},
   "outputs": [],
   "source": [
    "#For Example\n",
    "def test2(**kwargs):\n",
    "    return kwargs"
   ]
  },
  {
   "cell_type": "code",
   "execution_count": 12,
   "id": "b9e1610f-fa07-4f96-830b-b2e6af8d766b",
   "metadata": {},
   "outputs": [],
   "source": [
    "def test2(**kwargs):\n",
    "    for i in kwargs:\n",
    "        if type(kwargs[i])==list:\n",
    "            return i, kwargs[i]"
   ]
  },
  {
   "cell_type": "code",
   "execution_count": 13,
   "id": "f73ead38-eb77-4dc2-95ca-f31357b3fa6f",
   "metadata": {},
   "outputs": [
    {
     "data": {
      "text/plain": [
       "('c', [1, 2, 3, 4])"
      ]
     },
     "execution_count": 13,
     "metadata": {},
     "output_type": "execute_result"
    }
   ],
   "source": [
    "test2(a=67,b=\"class\",c=[1,2,3,4],d={1,2,3,\"skills\"})"
   ]
  },
  {
   "cell_type": "markdown",
   "id": "bd9df6e4-6aa4-4294-9fd0-013ed803bb45",
   "metadata": {},
   "source": [
    "if range>10What is an iterator in python? Name the method used to initialise the iterator object and the method used for iteration. Use these methods to print the first five elements of the given list [2, 4, 6, 8, 10, 12, 14, 16, 18, 20]."
   ]
  },
  {
   "cell_type": "code",
   "execution_count": 14,
   "id": "d076c36a-a290-4559-960c-bc3df4a6d063",
   "metadata": {},
   "outputs": [
    {
     "name": "stdout",
     "output_type": "stream",
     "text": [
      "Answer\n"
     ]
    }
   ],
   "source": [
    "'''\n",
    "1.Iterator:It allows you to iterate/loop over a collection of element. It provides a way to access the elements of an object one at a time without needing to know the underlying details.\n",
    "2.The method used to iterator object is iter method and next method.In iter method,We first intialize the iterator in elements or collection of list, tuple.And in next it will take iterator as an arguement to retrive elements in a loop it until the loop is exhausted.\n",
    "\n",
    "'''\n",
    "print(\"Answer\")"
   ]
  },
  {
   "cell_type": "code",
   "execution_count": 15,
   "id": "adbc69f5-7f48-4654-9b26-18612d6ca152",
   "metadata": {},
   "outputs": [
    {
     "name": "stdout",
     "output_type": "stream",
     "text": [
      "2\n",
      "4\n",
      "6\n",
      "8\n",
      "10\n"
     ]
    }
   ],
   "source": [
    "#Q.Use these methods to print the first five elements of the given list [2, 4, 6, 8, 10, 12, 14, 16, 18, 20].\n",
    "list=[2,4,6,8,10,12,14,16,18,20]\n",
    "iteratored_list=iter(list)\n",
    "\n",
    "for _ in range(5):\n",
    "    print(next(iteratored_list))\n",
    "    "
   ]
  },
  {
   "cell_type": "markdown",
   "id": "2c289598-3f2c-4c63-9930-37cee1872ab4",
   "metadata": {},
   "source": [
    "Q4. What is a generator function in python? Why yield keyword is used? Give an example of a generator\n",
    "function."
   ]
  },
  {
   "cell_type": "code",
   "execution_count": 16,
   "id": "0bca83f6-8ec7-4d45-b651-974cd39e6a0d",
   "metadata": {},
   "outputs": [
    {
     "name": "stdout",
     "output_type": "stream",
     "text": [
      "Answer\n"
     ]
    }
   ],
   "source": [
    "'''\n",
    "1.A Generator function in Python is a function that returns an iterator using the Yield keyword. It allows you to create iterators in a more concise and memory-efficient way.We use the yield statement to yield a value.\n",
    "'''\n",
    "print(\"Answer\")"
   ]
  },
  {
   "cell_type": "code",
   "execution_count": 17,
   "id": "181cde9b-db37-4650-9a4e-d0c6570afa05",
   "metadata": {},
   "outputs": [],
   "source": [
    "#For this purpose, we use fibonacci list in generator function:\n",
    "def test_fib(n):\n",
    "    a,b=0,1\n",
    "    for i in range(n):\n",
    "         yield a\n",
    "         a,b=b,a+b \n",
    "   "
   ]
  },
  {
   "cell_type": "code",
   "execution_count": 18,
   "id": "61efb59f-0d4d-4261-95fc-30307cb8c5a6",
   "metadata": {},
   "outputs": [
    {
     "name": "stdout",
     "output_type": "stream",
     "text": [
      "0\n",
      "1\n",
      "1\n",
      "2\n",
      "3\n",
      "5\n",
      "8\n",
      "13\n",
      "21\n",
      "34\n"
     ]
    }
   ],
   "source": [
    "for i in test_fib(10):\n",
    "            print(i)\n",
    "        "
   ]
  },
  {
   "cell_type": "markdown",
   "id": "12065ed8-95c6-4276-9282-eead35acc938",
   "metadata": {},
   "source": [
    "Q5. Create a generator function for prime numbers less than 1000. Use the next() method to print the\n",
    "first 20 prime numbers."
   ]
  },
  {
   "cell_type": "code",
   "execution_count": 19,
   "id": "e56942a0-2ae3-4fba-9ba7-cf4dcc2f999f",
   "metadata": {},
   "outputs": [
    {
     "name": "stdout",
     "output_type": "stream",
     "text": [
      "2\n",
      "3\n",
      "5\n",
      "7\n",
      "11\n",
      "13\n",
      "17\n",
      "19\n",
      "23\n",
      "29\n",
      "31\n",
      "37\n",
      "41\n",
      "43\n",
      "47\n",
      "53\n",
      "59\n",
      "61\n",
      "67\n",
      "71\n"
     ]
    }
   ],
   "source": [
    "def prime_generator():\n",
    "    num = 2\n",
    "    while num < 1000:\n",
    "        if all(num % i != 0 for i in range(2, int(num ** 0.5) + 1)):\n",
    "            yield num\n",
    "        num += 1\n",
    "\n",
    "prime_gen = prime_generator()\n",
    "\n",
    "for _ in range(20):\n",
    "    print(next(prime_gen))\n"
   ]
  },
  {
   "cell_type": "code",
   "execution_count": 20,
   "id": "27843305-2d25-4fa3-8123-ba00f4884f52",
   "metadata": {},
   "outputs": [
    {
     "name": "stdout",
     "output_type": "stream",
     "text": [
      "Thank you,Sir\n"
     ]
    }
   ],
   "source": [
    "print(\"Thank you,Sir\")"
   ]
  },
  {
   "cell_type": "code",
   "execution_count": 21,
   "id": "fc83cdff-32da-49c2-96a7-2d5871f537c8",
   "metadata": {},
   "outputs": [
    {
     "name": "stdout",
     "output_type": "stream",
     "text": [
      "x-o-x-o-x-o-x-o-x-o-x-o-x-o-x-o-x-o-x-o-x-o-x-o-x-o-x-o-x-o-x-o-x-o-x-o-x-o-x-o-x-o-x-o-x-o-x-o-x-o-x-o-x-o\n"
     ]
    }
   ],
   "source": [
    "print(\"x-o-x-o-x-o-x-o-x-o-x-o-x-o-x-o-x-o-x-o-x-o-x-o-x-o-x-o-x-o-x-o-x-o-x-o-x-o-x-o-x-o-x-o-x-o-x-o-x-o-x-o-x-o\")"
   ]
  }
 ],
 "metadata": {
  "kernelspec": {
   "display_name": "Python 3 (ipykernel)",
   "language": "python",
   "name": "python3"
  },
  "language_info": {
   "codemirror_mode": {
    "name": "ipython",
    "version": 3
   },
   "file_extension": ".py",
   "mimetype": "text/x-python",
   "name": "python",
   "nbconvert_exporter": "python",
   "pygments_lexer": "ipython3",
   "version": "3.10.8"
  }
 },
 "nbformat": 4,
 "nbformat_minor": 5
}
