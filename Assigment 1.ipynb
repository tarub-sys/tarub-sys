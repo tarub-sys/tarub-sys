{
 "cells": [
  {
   "cell_type": "code",
   "execution_count": 1,
   "id": "9ec40566-a1db-49d3-b62c-1b1dbffa0bd0",
   "metadata": {},
   "outputs": [
    {
     "name": "stdout",
     "output_type": "stream",
     "text": [
      "Hello,sir\n"
     ]
    }
   ],
   "source": [
    "print(\"Hello,sir\")"
   ]
  },
  {
   "cell_type": "markdown",
   "id": "047f835e-242e-49b1-983b-f73a82ac44b9",
   "metadata": {},
   "source": [
    "Q1. Create one variable containing following type of data"
   ]
  },
  {
   "cell_type": "code",
   "execution_count": 2,
   "id": "42730af9-47b9-4749-832c-b9c0f8cbfd93",
   "metadata": {},
   "outputs": [],
   "source": [
    "#1.String"
   ]
  },
  {
   "cell_type": "code",
   "execution_count": 3,
   "id": "b91fee7d-6930-4d85-8649-240290b27423",
   "metadata": {},
   "outputs": [],
   "source": [
    "a=(\"Brain\")"
   ]
  },
  {
   "cell_type": "code",
   "execution_count": 4,
   "id": "a921e585-3a78-44ee-b11d-517527ea6608",
   "metadata": {},
   "outputs": [
    {
     "data": {
      "text/plain": [
       "str"
      ]
     },
     "execution_count": 4,
     "metadata": {},
     "output_type": "execute_result"
    }
   ],
   "source": [
    "type(a)"
   ]
  },
  {
   "cell_type": "code",
   "execution_count": 5,
   "id": "b4cc7db9-4283-4353-aae4-e1f160d0b478",
   "metadata": {},
   "outputs": [],
   "source": [
    "#2.List"
   ]
  },
  {
   "cell_type": "code",
   "execution_count": 6,
   "id": "4538b622-d3e6-427f-bb1e-aad44ad5b187",
   "metadata": {},
   "outputs": [],
   "source": [
    "b=[1,2,3,4,5]"
   ]
  },
  {
   "cell_type": "code",
   "execution_count": 7,
   "id": "b0d0965c-36cb-471e-8614-0f25f6f24718",
   "metadata": {},
   "outputs": [
    {
     "data": {
      "text/plain": [
       "list"
      ]
     },
     "execution_count": 7,
     "metadata": {},
     "output_type": "execute_result"
    }
   ],
   "source": [
    "type(b)"
   ]
  },
  {
   "cell_type": "code",
   "execution_count": 8,
   "id": "fc67ce1a-d09a-41a4-9c67-2d797b181071",
   "metadata": {},
   "outputs": [],
   "source": [
    "#3.Float"
   ]
  },
  {
   "cell_type": "code",
   "execution_count": 9,
   "id": "f542634b-3b89-49ae-9a16-bd405b73c90f",
   "metadata": {},
   "outputs": [],
   "source": [
    "c=(32.453)"
   ]
  },
  {
   "cell_type": "code",
   "execution_count": 10,
   "id": "f6713053-4c66-4d1e-b799-1c484f03e67f",
   "metadata": {},
   "outputs": [
    {
     "data": {
      "text/plain": [
       "float"
      ]
     },
     "execution_count": 10,
     "metadata": {},
     "output_type": "execute_result"
    }
   ],
   "source": [
    "type(c)"
   ]
  },
  {
   "cell_type": "code",
   "execution_count": 11,
   "id": "73868acf-eb46-4001-982a-cff2d6292a0e",
   "metadata": {},
   "outputs": [],
   "source": [
    "#4.Tuple"
   ]
  },
  {
   "cell_type": "code",
   "execution_count": 12,
   "id": "e3474119-1034-47a0-bd5d-bc29af5baad6",
   "metadata": {},
   "outputs": [],
   "source": [
    "d=(9, 'Hi', 89.10 , [3,2,7])"
   ]
  },
  {
   "cell_type": "code",
   "execution_count": 13,
   "id": "02d5c8b4-3ab5-4263-8d7c-c56419e6ff0f",
   "metadata": {},
   "outputs": [
    {
     "data": {
      "text/plain": [
       "tuple"
      ]
     },
     "execution_count": 13,
     "metadata": {},
     "output_type": "execute_result"
    }
   ],
   "source": [
    "type(d)"
   ]
  },
  {
   "cell_type": "markdown",
   "id": "ac145344-49b2-4526-9e4f-20a7f544ea3f",
   "metadata": {},
   "source": [
    "Q2. Given are some following variables containing data:"
   ]
  },
  {
   "cell_type": "code",
   "execution_count": 14,
   "id": "462f6e50-e8c4-40f6-9d08-ef3011f93c14",
   "metadata": {},
   "outputs": [],
   "source": [
    "#1.var1"
   ]
  },
  {
   "cell_type": "code",
   "execution_count": 15,
   "id": "baef0cf8-9b73-4639-8b1f-26ee9faf3815",
   "metadata": {},
   "outputs": [],
   "source": [
    "var1=''"
   ]
  },
  {
   "cell_type": "code",
   "execution_count": 16,
   "id": "7db621ba-9c7e-4014-8d8d-daf71d3c556e",
   "metadata": {},
   "outputs": [
    {
     "data": {
      "text/plain": [
       "str"
      ]
     },
     "execution_count": 16,
     "metadata": {},
     "output_type": "execute_result"
    }
   ],
   "source": [
    "type(var1)"
   ]
  },
  {
   "cell_type": "code",
   "execution_count": 17,
   "id": "4e13345a-6f4d-4ac7-8292-d6543307e94a",
   "metadata": {},
   "outputs": [],
   "source": [
    "#2.var2"
   ]
  },
  {
   "cell_type": "code",
   "execution_count": 18,
   "id": "ab89a2fb-d675-42b3-b81e-2ea14692c725",
   "metadata": {},
   "outputs": [],
   "source": [
    "var2='[DS ,ML , Python]'"
   ]
  },
  {
   "cell_type": "code",
   "execution_count": 19,
   "id": "aae9e9d6-3081-4f90-a2eb-6e5ddee9befc",
   "metadata": {},
   "outputs": [
    {
     "data": {
      "text/plain": [
       "str"
      ]
     },
     "execution_count": 19,
     "metadata": {},
     "output_type": "execute_result"
    }
   ],
   "source": [
    "type(var2)"
   ]
  },
  {
   "cell_type": "code",
   "execution_count": 20,
   "id": "cd3fed78-31df-4f5c-b057-5210f878392f",
   "metadata": {},
   "outputs": [],
   "source": [
    "#3.var3"
   ]
  },
  {
   "cell_type": "code",
   "execution_count": 21,
   "id": "c566ec67-d540-4c72-8a10-07f0c33270e1",
   "metadata": {},
   "outputs": [],
   "source": [
    "var3=[ 'DS' , 'ML' , 'Pyhton' ]"
   ]
  },
  {
   "cell_type": "code",
   "execution_count": 22,
   "id": "e6621520-ad32-45ca-9d67-818caeb7ae91",
   "metadata": {},
   "outputs": [
    {
     "data": {
      "text/plain": [
       "list"
      ]
     },
     "execution_count": 22,
     "metadata": {},
     "output_type": "execute_result"
    }
   ],
   "source": [
    "type(var3)"
   ]
  },
  {
   "cell_type": "code",
   "execution_count": 23,
   "id": "1bc3cc7d-2c41-45a9-a638-925275ce0d33",
   "metadata": {},
   "outputs": [],
   "source": [
    "#4.var4"
   ]
  },
  {
   "cell_type": "code",
   "execution_count": 24,
   "id": "e875987c-e029-4801-91ae-344f3b9dcce8",
   "metadata": {},
   "outputs": [],
   "source": [
    "var4=1."
   ]
  },
  {
   "cell_type": "code",
   "execution_count": 25,
   "id": "f6d8cc4e-2f0c-49e7-867b-70862e5edf91",
   "metadata": {},
   "outputs": [
    {
     "data": {
      "text/plain": [
       "float"
      ]
     },
     "execution_count": 25,
     "metadata": {},
     "output_type": "execute_result"
    }
   ],
   "source": [
    "type(var4)"
   ]
  },
  {
   "cell_type": "markdown",
   "id": "56f82c39-5d2b-420a-9466-b41e22ce8020",
   "metadata": {},
   "source": [
    "Q3. Explain the use of the following operators using an example:"
   ]
  },
  {
   "cell_type": "markdown",
   "id": "c1913174-845f-4b4f-b6c9-23a5ab33637e",
   "metadata": {},
   "source": [
    "#1.- \"/\" This is a function of arthemtic operation and called as  true division. \n",
    "     For Example:"
   ]
  },
  {
   "cell_type": "code",
   "execution_count": 26,
   "id": "e8258683-6c35-475a-9f74-3862995d27f0",
   "metadata": {},
   "outputs": [
    {
     "data": {
      "text/plain": [
       "6"
      ]
     },
     "execution_count": 26,
     "metadata": {},
     "output_type": "execute_result"
    }
   ],
   "source": [
    "6"
   ]
  },
  {
   "cell_type": "code",
   "execution_count": 27,
   "id": "d1f4c008-92d5-48f9-ae01-16b484030f11",
   "metadata": {},
   "outputs": [
    {
     "data": {
      "text/plain": [
       "3"
      ]
     },
     "execution_count": 27,
     "metadata": {},
     "output_type": "execute_result"
    }
   ],
   "source": [
    "3"
   ]
  },
  {
   "cell_type": "code",
   "execution_count": 28,
   "id": "a5aedefd-5006-45cd-aa57-843c35b68b2e",
   "metadata": {},
   "outputs": [
    {
     "name": "stdout",
     "output_type": "stream",
     "text": [
      "2.0\n"
     ]
    }
   ],
   "source": [
    "print(6/3)"
   ]
  },
  {
   "cell_type": "markdown",
   "id": "909602c9-7bd1-4dc4-9672-46788c1b83fd",
   "metadata": {},
   "source": [
    "#2- \"%\" This operation is also used for divsion and displays the reminder of two numbers. it is called as modulo operator"
   ]
  },
  {
   "cell_type": "code",
   "execution_count": 29,
   "id": "a17efe11-22bd-438a-b9c1-b50ea37b4864",
   "metadata": {},
   "outputs": [],
   "source": [
    "#For Example:"
   ]
  },
  {
   "cell_type": "code",
   "execution_count": 30,
   "id": "b5f076a7-8b50-4e1e-88ef-9c70788b936f",
   "metadata": {},
   "outputs": [],
   "source": [
    "c=50"
   ]
  },
  {
   "cell_type": "code",
   "execution_count": 31,
   "id": "6207a105-6bd0-4dae-8bdc-f3e33f1a5dfe",
   "metadata": {},
   "outputs": [],
   "source": [
    "d=100"
   ]
  },
  {
   "cell_type": "code",
   "execution_count": 32,
   "id": "5ea6535e-cf07-4f1a-afa0-8f70fcfc85dd",
   "metadata": {},
   "outputs": [
    {
     "name": "stdout",
     "output_type": "stream",
     "text": [
      "50\n"
     ]
    }
   ],
   "source": [
    "print(c%d)"
   ]
  },
  {
   "cell_type": "markdown",
   "id": "4a089dd4-1ba0-47d7-8e2a-bffffad1623e",
   "metadata": {},
   "source": [
    "#3. - \"//\" This is called for integer divsion. we use this operation to obtain result between two integer.\n"
   ]
  },
  {
   "cell_type": "code",
   "execution_count": 33,
   "id": "7f3860f2-98f9-407a-9578-eeff90d95f84",
   "metadata": {},
   "outputs": [],
   "source": [
    "#For Example:"
   ]
  },
  {
   "cell_type": "code",
   "execution_count": 34,
   "id": "5ce7147c-ebfd-49cd-a34f-b46bb209407a",
   "metadata": {},
   "outputs": [],
   "source": [
    "e=8"
   ]
  },
  {
   "cell_type": "code",
   "execution_count": 35,
   "id": "726ae783-0d0f-4ba1-b8a9-880801149b29",
   "metadata": {},
   "outputs": [],
   "source": [
    "f=4"
   ]
  },
  {
   "cell_type": "code",
   "execution_count": 36,
   "id": "04bf55a4-133a-4b01-94b5-f9e445f588aa",
   "metadata": {},
   "outputs": [
    {
     "name": "stdout",
     "output_type": "stream",
     "text": [
      "2\n"
     ]
    }
   ],
   "source": [
    "print(e//f)"
   ]
  },
  {
   "cell_type": "markdown",
   "id": "6fb44e4b-013d-441c-8f2c-b7045c74dd36",
   "metadata": {},
   "source": [
    "#4.- \"**\" This operator gives power to the first number that will be multiplied by the second number"
   ]
  },
  {
   "cell_type": "code",
   "execution_count": 37,
   "id": "174e4f6a-fb02-4060-8364-3aebc315916e",
   "metadata": {},
   "outputs": [],
   "source": [
    "#For Example"
   ]
  },
  {
   "cell_type": "code",
   "execution_count": 38,
   "id": "27c2ae25-6c06-4055-99e0-6ba1a598567b",
   "metadata": {},
   "outputs": [],
   "source": [
    "j=5"
   ]
  },
  {
   "cell_type": "code",
   "execution_count": 39,
   "id": "d9e7d881-b301-4325-be7f-f482beea1eac",
   "metadata": {},
   "outputs": [],
   "source": [
    "k=3"
   ]
  },
  {
   "cell_type": "code",
   "execution_count": 40,
   "id": "707e1534-5e46-4b13-86bb-77dfa236210e",
   "metadata": {},
   "outputs": [
    {
     "name": "stdout",
     "output_type": "stream",
     "text": [
      "125\n"
     ]
    }
   ],
   "source": [
    "print(j**k)"
   ]
  },
  {
   "cell_type": "markdown",
   "id": "525ac41a-ec71-42b2-b423-285c6c76133c",
   "metadata": {},
   "source": [
    " Q4. Create a list of length 10 of your choice containing multiple types of data. Using for loop print the\n",
    "element and its data type."
   ]
  },
  {
   "cell_type": "code",
   "execution_count": 41,
   "id": "c32e9d9d-953a-4069-b06b-81848a943e6e",
   "metadata": {},
   "outputs": [],
   "source": [
    "o= [0o7, 24, \"cause\", \"DS\", 34.56, 13.09, 3+6j, 4-7j, 1+1, -0.69]"
   ]
  },
  {
   "cell_type": "code",
   "execution_count": 42,
   "id": "328bc179-8af1-4a3c-8b3e-90760a111e34",
   "metadata": {},
   "outputs": [
    {
     "name": "stdout",
     "output_type": "stream",
     "text": [
      "7\n",
      "<class 'int'>\n",
      "24\n",
      "<class 'int'>\n",
      "cause\n",
      "<class 'str'>\n",
      "DS\n",
      "<class 'str'>\n",
      "34.56\n",
      "<class 'float'>\n",
      "13.09\n",
      "<class 'float'>\n",
      "(3+6j)\n",
      "<class 'complex'>\n",
      "(4-7j)\n",
      "<class 'complex'>\n",
      "2\n",
      "<class 'int'>\n",
      "-0.69\n",
      "<class 'float'>\n"
     ]
    }
   ],
   "source": [
    "for h in o:\n",
    "    print(h)\n",
    "    print(type(h))"
   ]
  },
  {
   "cell_type": "markdown",
   "id": "0a5bc2bc-ab5a-4742-8c4c-1dbbb708eb49",
   "metadata": {},
   "source": [
    "Q5. Using a while loop, verify if the number A is purely divisible by number B and if so then how many\n",
    "times it can be divisible."
   ]
  },
  {
   "cell_type": "code",
   "execution_count": 44,
   "id": "552105aa-bdb9-4d40-a92e-7dfcd09f3436",
   "metadata": {},
   "outputs": [
    {
     "name": "stdin",
     "output_type": "stream",
     "text": [
      "60 20\n",
      "20 60\n",
      "0 3\n"
     ]
    },
    {
     "name": "stdout",
     "output_type": "stream",
     "text": [
      "20 is divisble by 60 and can be divided 3 times.\n"
     ]
    }
   ],
   "source": [
    "A=int(input(60))\n",
    "B=int(input(20))\n",
    "C=int(input(0))\n",
    "    \n",
    "while A%B==0:\n",
    "    A/=B\n",
    "    C +=1\n",
    "if c>0:\n",
    "        print(f\"{A} is divisble by {B} and can be divided {C} times.\")\n",
    "else:\n",
    "    print(f\"{A} is not divisible by {B}.\")\n",
    "\n"
   ]
  },
  {
   "cell_type": "markdown",
   "id": "7240b98e-01f5-43af-8220-881ae49ea331",
   "metadata": {},
   "source": [
    "Q6. Create a list containing 25 int type data. Using for loop and if-else condition print if the element is\n",
    "divisible by 3 or not."
   ]
  },
  {
   "cell_type": "code",
   "execution_count": 45,
   "id": "622b644d-a782-4c07-9039-60f1b0c73c15",
   "metadata": {},
   "outputs": [
    {
     "name": "stdout",
     "output_type": "stream",
     "text": [
      "1 is not divisible by 3\n",
      "3 is divisble by 3\n",
      "-4 is not divisible by 3\n",
      "5 is not divisible by 3\n",
      "7 is not divisible by 3\n",
      "9 is divisble by 3\n",
      "-11 is not divisible by 3\n",
      "12 is divisble by 3\n",
      "-14 is not divisible by 3\n",
      "16 is not divisible by 3\n",
      "18 is divisble by 3\n",
      "-20 is not divisible by 3\n",
      "22 is not divisible by 3\n",
      "23 is not divisible by 3\n",
      "25 is not divisible by 3\n",
      "27 is divisble by 3\n",
      "29 is not divisible by 3\n",
      "-729 is divisble by 3\n",
      "-296 is not divisible by 3\n",
      "13 is not divisible by 3\n",
      "143 is not divisible by 3\n",
      "7098 is divisble by 3\n",
      "831 is divisble by 3\n",
      "144 is divisble by 3\n",
      "65 is not divisible by 3\n"
     ]
    }
   ],
   "source": [
    "list=[1,3,-4,5,7,9,-11,12,-14,16,+18,-20,22,23,25,27,29,-729,-0o450,13,143,7098,831,144,65]\n",
    "for i in list:\n",
    "    if i%3==0:\n",
    "        print(i,\"is divisble by 3\")\n",
    "    else:\n",
    "        print(i,\"is not divisible by 3\")"
   ]
  },
  {
   "cell_type": "markdown",
   "id": "df6d621e-52e0-4489-873d-fa19d6542939",
   "metadata": {},
   "source": [
    "Q7. What do you understand about mutable and immutable data types? Give examples for both showing\n",
    "this property."
   ]
  },
  {
   "cell_type": "raw",
   "id": "24c507e6-13ef-4934-97d1-77c2f3cf6b6e",
   "metadata": {},
   "source": [
    "1].Mutable Data Type: It is a type of data in which value of particular data can be changed in a data type.\n",
    "                 This mutablilty ability of data is seen in the data type:List, Sets."
   ]
  },
  {
   "cell_type": "markdown",
   "id": "03aeee81-05cd-454a-b5c1-8d7f0a2b100d",
   "metadata": {},
   "source": [
    "For Example:"
   ]
  },
  {
   "cell_type": "code",
   "execution_count": 46,
   "id": "73f226b8-6bc4-4d48-b31b-8e11c0e34250",
   "metadata": {},
   "outputs": [],
   "source": [
    "T=[1,2,3,4,5,'pwskills']"
   ]
  },
  {
   "cell_type": "code",
   "execution_count": 47,
   "id": "172fa9d9-6dfb-4b38-8b3f-6df85c82a96e",
   "metadata": {},
   "outputs": [
    {
     "data": {
      "text/plain": [
       "4"
      ]
     },
     "execution_count": 47,
     "metadata": {},
     "output_type": "execute_result"
    }
   ],
   "source": [
    "T[3]"
   ]
  },
  {
   "cell_type": "code",
   "execution_count": 48,
   "id": "0458797b-b7d4-4c15-ab64-c529092db830",
   "metadata": {},
   "outputs": [],
   "source": [
    "T[3]=6"
   ]
  },
  {
   "cell_type": "code",
   "execution_count": 49,
   "id": "352d741d-3e6d-4532-9d60-45bba2a1ca4b",
   "metadata": {},
   "outputs": [
    {
     "data": {
      "text/plain": [
       "[1, 2, 3, 6, 5, 'pwskills']"
      ]
     },
     "execution_count": 49,
     "metadata": {},
     "output_type": "execute_result"
    }
   ],
   "source": [
    "T"
   ]
  },
  {
   "cell_type": "raw",
   "id": "d2bebab9-4d99-4b59-bee0-9eb1ed7fb074",
   "metadata": {},
   "source": [
    "2].Immutable Data Type: It is type of which value of partcular data cannot bem changed in a data type.\n",
    "                        This type of immutable data type is seen in the data type:String,Float\n",
    "                        "
   ]
  },
  {
   "cell_type": "markdown",
   "id": "0f4aa9ec-ac9c-4413-993b-0b6f0b05d851",
   "metadata": {},
   "source": [
    "For Example:"
   ]
  },
  {
   "cell_type": "code",
   "execution_count": 50,
   "id": "46af5848-eab7-4bcf-8986-a92013e04078",
   "metadata": {},
   "outputs": [
    {
     "ename": "TypeError",
     "evalue": "'str' object does not support item assignment",
     "output_type": "error",
     "traceback": [
      "\u001b[0;31m---------------------------------------------------------------------------\u001b[0m",
      "\u001b[0;31mTypeError\u001b[0m                                 Traceback (most recent call last)",
      "Cell \u001b[0;32mIn[50], line 2\u001b[0m\n\u001b[1;32m      1\u001b[0m s\u001b[38;5;241m=\u001b[39m\u001b[38;5;124m'\u001b[39m\u001b[38;5;124msnopdog\u001b[39m\u001b[38;5;124m'\u001b[39m\n\u001b[0;32m----> 2\u001b[0m \u001b[43ms\u001b[49m\u001b[43m[\u001b[49m\u001b[38;5;241;43m2\u001b[39;49m\u001b[43m]\u001b[49m\u001b[38;5;241m=\u001b[39m\u001b[38;5;241m4\u001b[39m\n",
      "\u001b[0;31mTypeError\u001b[0m: 'str' object does not support item assignment"
     ]
    }
   ],
   "source": [
    "s='snopdog'\n",
    "s[2]=4"
   ]
  },
  {
   "cell_type": "code",
   "execution_count": 51,
   "id": "fb7ae4be-34e2-47ec-a747-aabcc98b809e",
   "metadata": {},
   "outputs": [
    {
     "name": "stdout",
     "output_type": "stream",
     "text": [
      "Thank you, sir\n"
     ]
    }
   ],
   "source": [
    "print(\"Thank you, sir\")"
   ]
  },
  {
   "cell_type": "code",
   "execution_count": 52,
   "id": "f424949a-6a6d-4bdd-8d1b-904be506a433",
   "metadata": {},
   "outputs": [
    {
     "name": "stdout",
     "output_type": "stream",
     "text": [
      "\n",
      "------------------------------------------------------------------------------------------------------------------------------------------\n",
      "\n"
     ]
    }
   ],
   "source": [
    "print(\"\\n------------------------------------------------------------------------------------------------------------------------------------------\\n\")"
   ]
  }
 ],
 "metadata": {
  "kernelspec": {
   "display_name": "Python 3 (ipykernel)",
   "language": "python",
   "name": "python3"
  },
  "language_info": {
   "codemirror_mode": {
    "name": "ipython",
    "version": 3
   },
   "file_extension": ".py",
   "mimetype": "text/x-python",
   "name": "python",
   "nbconvert_exporter": "python",
   "pygments_lexer": "ipython3",
   "version": "3.10.8"
  },
  "toc-autonumbering": false,
  "toc-showcode": false
 },
 "nbformat": 4,
 "nbformat_minor": 5
}
